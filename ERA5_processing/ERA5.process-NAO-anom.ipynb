{
 "cells": [
  {
   "cell_type": "code",
   "execution_count": null,
   "metadata": {},
   "outputs": [],
   "source": [
    "# import the relevant libraries\n",
    "import xarray as xr\n",
    "import numpy as np\n",
    "import pandas as pd\n",
    "import matplotlib.pyplot as plt"
   ]
  },
  {
   "attachments": {},
   "cell_type": "markdown",
   "metadata": {},
   "source": [
    "Using CDO, we have selected the grid boxes for iceland and the azores."
   ]
  },
  {
   "cell_type": "code",
   "execution_count": null,
   "metadata": {},
   "outputs": [],
   "source": [
    "# set the file paths for the data on JASMIN\n",
    "azores_file_path=\"/home/users/benhutch/ERA5_psl/ERA5.azores-gridbox.psl.nc\"\n",
    "iceland_file_path=\"/home/users/benhutch/ERA5_psl/ERA5.iceland-gridbox.psl.nc\""
   ]
  },
  {
   "attachments": {},
   "cell_type": "markdown",
   "metadata": {},
   "source": [
    "Now we define a function to process the azores and iceland data"
   ]
  },
  {
   "cell_type": "code",
   "execution_count": null,
   "metadata": {},
   "outputs": [],
   "source": [
    "# process the data\n",
    "def process_data(file_path):\n",
    "    # 1. Load data using xarray and dask\n",
    "    ds = xr.open_dataset(file_path, chunks={'time': 'auto'})\n",
    "\n",
    "    # 2. Select December, January, February, and March\n",
    "    ds_djfm = ds.sel(time=ds['time.season'] == 'DJF')\n",
    "\n",
    "    # 3. Calculate the model mean state to produce anomalies\n",
    "    mean_state = ds_djfm.mean(dim='time', skipna=True)\n",
    "    anomalies = ds_djfm - mean_state\n",
    "\n",
    "    # 4. Take the time mean for DJFM to get one timestep for each season\n",
    "    seasonal_means = anomalies.resample(time='QS-DEC').mean(dim='time', skipna=True)\n",
    "\n",
    "    # 5. Take the gridbox mean for both iceland and the azores seasonal means\n",
    "    gridbox_mean = seasonal_means.mean(dim=['latitude', 'longitude'], skipna=True)\n",
    "    \n",
    "    return gridbox_mean\n"
   ]
  },
  {
   "cell_type": "code",
   "execution_count": null,
   "metadata": {},
   "outputs": [],
   "source": [
    "# Process both datasets\n",
    "azores_gridbox_mean = process_data('ERA5.azores-gridbox.psl.nc')\n",
    "iceland_gridbox_mean = process_data('ERA5.iceland-gridbox.psl.nc')"
   ]
  },
  {
   "cell_type": "code",
   "execution_count": null,
   "metadata": {},
   "outputs": [],
   "source": [
    "# 6. Subtract the iceland seasonal gridbox means from the azores seasonal gridbox means to calculate the NAO anomaly\n",
    "nao_anomaly = azores_gridbox_mean - iceland_gridbox_mean\n",
    "\n",
    "# print the NAO anomaly\n",
    "print(nao_anomaly)"
   ]
  },
  {
   "cell_type": "code",
   "execution_count": null,
   "metadata": {},
   "outputs": [],
   "source": [
    "# 7. Take a forward running mean (e.g. the output for 1960 is the DJFM winters from 1961/62 to 68/69) for the whole dataset.\n",
    "window_size = 8\n",
    "nao_anomaly_rolling_mean = nao_anomaly.rolling(time=window_size, center=False).mean()\n",
    "\n",
    "# Save the results to a netCDF file\n",
    "nao_anomaly_rolling_mean.to_netcdf('NAO_anomaly_rolling_mean.nc')"
   ]
  },
  {
   "cell_type": "code",
   "execution_count": null,
   "metadata": {},
   "outputs": [],
   "source": [
    "# plot the NAO anomaly\n",
    "# with the years on the x-axis\n",
    "# and the NAO anomaly on the y-axis\n",
    "nao_anomaly_rolling_mean.plot()\n",
    "plt.show()"
   ]
  }
 ],
 "metadata": {
  "language_info": {
   "name": "python"
  },
  "orig_nbformat": 4
 },
 "nbformat": 4,
 "nbformat_minor": 2
}
