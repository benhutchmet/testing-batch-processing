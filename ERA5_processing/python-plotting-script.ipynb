{
 "cells": [
  {
   "cell_type": "code",
   "execution_count": null,
   "metadata": {},
   "outputs": [],
   "source": [
    "# import the required libraries\n",
    "import xarray as xr\n",
    "import numpy as np\n",
    "import matplotlib.pyplot as plt"
   ]
  },
  {
   "cell_type": "code",
   "execution_count": null,
   "metadata": {},
   "outputs": [],
   "source": [
    "# Load the dataset\n",
    "ds = xr.open_dataset(\"/home/users/benhutch/ERA5_psl/nao-anomaly/nao-anomaly-ERA5.8yrRM.nc\", chunks={\"time\": 10})\n",
    "\n",
    "# Extract and process the variable\n",
    "var151 = ds[\"var151\"] / 100\n",
    "\n",
    "# Extract time and convert to datetime\n",
    "time = var151[\"time\"].values\n",
    "time = time.astype(\"datetime64[Y]\")"
   ]
  },
  {
   "cell_type": "code",
   "execution_count": null,
   "metadata": {},
   "outputs": [],
   "source": [
    "# process the data\n",
    "# Extract years from datetime\n",
    "years = time.astype(int) + 1960\n",
    "\n",
    "# Get the mean value of var151 for each year\n",
    "mean_values = var151.groupby(time).mean(dim=\"time\").values"
   ]
  },
  {
   "cell_type": "code",
   "execution_count": null,
   "metadata": {},
   "outputs": [],
   "source": [
    "# Plot the evolution of the variable with time\n",
    "plt.plot(years, mean_values)\n",
    "plt.xlabel(\"Year\")\n",
    "plt.ylabel(\"Var151 (divided by 100)\")\n",
    "plt.title(\"Evolution of Var151 with Time\")\n",
    "plt.grid()\n",
    "plt.show()\n"
   ]
  }
 ],
 "metadata": {
  "language_info": {
   "name": "python"
  },
  "orig_nbformat": 4
 },
 "nbformat": 4,
 "nbformat_minor": 2
}
