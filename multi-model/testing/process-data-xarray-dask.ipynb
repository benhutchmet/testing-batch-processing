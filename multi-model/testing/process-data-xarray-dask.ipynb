{
 "cells": [
  {
   "cell_type": "code",
   "execution_count": 1,
   "metadata": {},
   "outputs": [
    {
     "ename": "ModuleNotFoundError",
     "evalue": "No module named 'xarray'",
     "output_type": "error",
     "traceback": [
      "\u001b[1;31m---------------------------------------------------------------------------\u001b[0m",
      "\u001b[1;31mModuleNotFoundError\u001b[0m                       Traceback (most recent call last)",
      "Cell \u001b[1;32mIn[1], line 3\u001b[0m\n\u001b[0;32m      1\u001b[0m \u001b[39m# import the relevant modules\u001b[39;00m\n\u001b[1;32m----> 3\u001b[0m \u001b[39mimport\u001b[39;00m \u001b[39mxarray\u001b[39;00m \u001b[39mas\u001b[39;00m \u001b[39mxr\u001b[39;00m\n\u001b[0;32m      4\u001b[0m \u001b[39mimport\u001b[39;00m \u001b[39mnumpy\u001b[39;00m \u001b[39mas\u001b[39;00m \u001b[39mnp\u001b[39;00m\n\u001b[0;32m      5\u001b[0m \u001b[39mimport\u001b[39;00m \u001b[39mmatplotlib\u001b[39;00m\u001b[39m.\u001b[39;00m\u001b[39mpyplot\u001b[39;00m \u001b[39mas\u001b[39;00m \u001b[39mplt\u001b[39;00m\n",
      "\u001b[1;31mModuleNotFoundError\u001b[0m: No module named 'xarray'"
     ]
    }
   ],
   "source": [
    "# import the relevant modules\n",
    "\n",
    "import xarray as xr\n",
    "import numpy as np\n",
    "import matplotlib.pyplot as plt\n",
    "import dask as dab"
   ]
  },
  {
   "attachments": {},
   "cell_type": "markdown",
   "metadata": {},
   "source": [
    "In this notebook, we will use the year 2-9 DJFM Azores/Iceland files and then process them using dask and xarray to calculate the NAO anomaly."
   ]
  },
  {
   "cell_type": "code",
   "execution_count": null,
   "metadata": {},
   "outputs": [],
   "source": [
    "# we want to import the files from the data directory\n",
    "# example filename\n",
    "# years-2-9-DJFM-azores-psl_Amon_BCC-CSM2-MR_dcppA-hindcast_s1970-r8i1p1f1_gn_197001-197912.nc\n",
    "# working directory\n",
    "# /work/scratch-nopw/benhutch/BCC-CSM2-MR/azores/outputs\n",
    "# set the files to be imported - all of those beginning with years-2-9-DJFM* in the directory\n",
    "azores_files = '/work/scratch-nopw/benhutch/BCC-CSM2-MR/azores/outputs/years-2-9-DJFM*.nc'\n",
    "iceland_files = '/work/scratch-nopw/benhutch/BCC-CSM2-MR/iceland/outputs/years-2-9-DJFM*.nc'\n",
    "\n",
    "# print the files to be imported\n",
    "print(\"Files to be imported for the azores:\", azores_files)\n",
    "print(\"Files to be imported for iceland:\", iceland_files)"
   ]
  },
  {
   "attachments": {},
   "cell_type": "markdown",
   "metadata": {},
   "source": [
    "Now we want to process the files through a sequence of steps:\n",
    "\n",
    "* First calculate the model mean state (over all ensemble members and all initialization years)\n",
    "\n",
    "* Then, for each initialization year, subtract the model mean state from each ensemble member and then combine to get the ensemble mean anomalies\n",
    "\n",
    "    * For other models (EC-Earth3, NorCPM1) we must first average over each of the initialization schemes before taking the ensemble mean of the combined initialization scheme ensemble members.\n",
    "    \n",
    "\n",
    "* Then take the time mean of these anomalies.\n",
    "\n",
    "* Then, one we have one set of anomalies for each of the initialization dates, we want to combine all of these by the time axis (1960-2015).\n",
    "\n",
    "* Then subtract the iceland anomalies from the azores anomalies to get the NAO anomaly.\n",
    "\n"
   ]
  },
  {
   "cell_type": "code",
   "execution_count": null,
   "metadata": {},
   "outputs": [],
   "source": [
    "# first calculate the model mean state for the azores\n",
    "# open the files\n",
    "azores = xr.open_mfdataset(azores_files, combine='by_coords', parallel=True)\n",
    "# calculate the mean\n",
    "azores_mean = azores.mean(dim='time')\n",
    "# print the mean\n",
    "print(\"Mean state for the azores:\", azores_mean)\n",
    "\n",
    "# first calculate the model mean state for iceland\n",
    "# open the files\n",
    "iceland = xr.open_mfdataset(iceland_files, combine='by_coords', parallel=True)\n",
    "# calculate the mean\n",
    "iceland_mean = iceland.mean(dim='time')\n",
    "# print the mean\n",
    "print(\"Mean state for iceland:\", iceland_mean)"
   ]
  }
 ],
 "metadata": {
  "kernelspec": {
   "display_name": "base",
   "language": "python",
   "name": "python3"
  },
  "language_info": {
   "codemirror_mode": {
    "name": "ipython",
    "version": 3
   },
   "file_extension": ".py",
   "mimetype": "text/x-python",
   "name": "python",
   "nbconvert_exporter": "python",
   "pygments_lexer": "ipython3",
   "version": "3.9.13"
  },
  "orig_nbformat": 4
 },
 "nbformat": 4,
 "nbformat_minor": 2
}
