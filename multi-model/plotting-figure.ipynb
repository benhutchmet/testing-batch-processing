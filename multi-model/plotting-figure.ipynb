{
 "cells": [
  {
   "cell_type": "code",
   "execution_count": null,
   "metadata": {},
   "outputs": [],
   "source": [
    "# import the required modules\n",
    "import numpy as np\n",
    "import pandas as pd\n",
    "import matplotlib.pyplot as plt\n",
    "import xarray as xr"
   ]
  },
  {
   "cell_type": "code",
   "execution_count": null,
   "metadata": {},
   "outputs": [],
   "source": [
    "# load the required dataset\n",
    "# first load the observation data (ERA5)\n",
    "obs = xr.open_dataset(\"/home/users/benhutch/ERA5_psl/nao-anomaly/nao-anomaly-ERA5.8yrRM.nc\", chunks={\"time\": 10})\n",
    "\n",
    "# load the model data for all models\n",
    "# already pre-processed to multi-model mean\n",
    "model = xr.open_dataset(\"/work/scratch-nopw/benhutch/multi-model/multi-model.mean-NAO.nc\", chunks={\"time\": 10})\n"
   ]
  },
  {
   "cell_type": "code",
   "execution_count": null,
   "metadata": {},
   "outputs": [],
   "source": [
    "# extract the data for the observations\n",
    "obs_psl = obs[\"var151\"]\n",
    "obs_time = obs_psl[\"time\"].values\n",
    "# set the type for the time variable\n",
    "obs_time = obs_time.astype(\"datetime64[Y]\")\n",
    "\n",
    "# process the obs data from Pa to hPa\n",
    "obs_nao_anom = obs_psl[:, 0, 0] / 100"
   ]
  },
  {
   "cell_type": "code",
   "execution_count": null,
   "metadata": {},
   "outputs": [],
   "source": [
    "# extract the data for the multi-model mean\n",
    "model_psl = model[\"psl\"]\n",
    "model_time = model_psl[\"time\"].values\n",
    "# set the type for the time variable\n",
    "model_time = model_time.astype(\"datetime64[Y]\")\n",
    "\n",
    "# process the model data from Pa to hPa\n",
    "model_nao_anom = model_psl[:, 0, 0] / 100"
   ]
  },
  {
   "cell_type": "code",
   "execution_count": null,
   "metadata": {},
   "outputs": [],
   "source": [
    "# plot the evolution of the NAO index with time\n",
    "# first create the figure\n",
    "fig = plt.figure(figsize=(10, 6))\n",
    "# add the axes\n",
    "ax = fig.add_subplot(111)\n",
    "# plot the data\n",
    "ax.plot(obs_time, obs_nao_anom, color=\"black\", label=\"ERA5\")\n",
    "ax.plot(model_time, model_nao_anom, color=\"red\", label=\"DCPP-A\")\n",
    "# include a thin horizontal line at zero\n",
    "ax.axhline(y=0, color=\"black\", linestyle=\"-\", linewidth=0.5)\n",
    "# set the x-axis limits\n",
    "ax.set_xlim([np.datetime64(\"1960\"), np.datetime64(\"2020\")])\n",
    "# set the y-axis limits\n",
    "ax.set_ylim([-10, 10])\n",
    "# set the x-axis label\n",
    "ax.set_xlabel(\"Reference Year\")\n",
    "# set the y-axis label\n",
    "ax.set_ylabel(\"NAO (hPa )\")\n",
    "# set the title\n",
    "ax.set_title(\"NAO anomalies, raw ensemble\")\n",
    "# add the legend in the bottom right corner\n",
    "ax.legend(loc=\"lower right\")\n",
    "# save the figure\n",
    "plt.savefig(\"/home/users/benhutch/multi-model/plots/nao-anomaly-raw.png\", dpi=300)\n",
    "# show the figure\n",
    "plt.show()\n"
   ]
  }
 ],
 "metadata": {
  "language_info": {
   "name": "python"
  },
  "orig_nbformat": 4
 },
 "nbformat": 4,
 "nbformat_minor": 2
}
